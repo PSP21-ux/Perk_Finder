{
  "nbformat": 4,
  "nbformat_minor": 0,
  "metadata": {
    "colab": {
      "provenance": []
    },
    "kernelspec": {
      "name": "python3",
      "display_name": "Python 3"
    },
    "language_info": {
      "name": "python"
    }
  },
  "cells": [
    {
      "cell_type": "code",
      "source": [
        "import pandas as pd\n",
        "\n",
        "df = pd.read_csv(\"combined_credit_cards.csv\")\n",
        "\n",
        "df[\"combined_text\"] = df.apply(lambda row: \" \".join(row.values.astype(str)), axis=1)\n",
        "\n",
        "print(df.head())\n",
        "\n"
      ],
      "metadata": {
        "colab": {
          "base_uri": "https://localhost:8080/"
        },
        "id": "havQoDEjsLzX",
        "outputId": "1cf68d03-a559-4f04-8c8c-9f3eca24ace4"
      },
      "execution_count": 65,
      "outputs": [
        {
          "output_type": "stream",
          "name": "stdout",
          "text": [
            "              Card Name Joining_Fee Renewal_Fee  \\\n",
            "0  SBI Card Miles Elite        4999        4999   \n",
            "1        SBI Card PULSE       1,499       1,499   \n",
            "2  SimplyCLICK SBI Card         499         499   \n",
            "3     CASHBACK SBI Card         999         999   \n",
            "4        SBI Card ELITE       4,999       4,999   \n",
            "\n",
            "                                            Benefits  \\\n",
            "0  Get 5,000 Travel Credits as Welcome Gift, Earn...   \n",
            "1  Annual Fee (one-time):Rs. 1,499 + Taxes, Annua...   \n",
            "2  Get Amazon.in gift card worthRs. 500* on payme...   \n",
            "3  5% cashback on online spends, 1% cashback on o...   \n",
            "4  Welcome e-Gift Voucher worthRs. 5,000 on joini...   \n",
            "\n",
            "                                            Features  \\\n",
            "0  {'Terms and Conditions': [], 'Welcome Gift': [...   \n",
            "1  {'Terms and Conditions': ['For detailed Terms ...   \n",
            "2  {'Contactless Advantage': ['Daily purchases no...   \n",
            "3  {'Terms and Conditions': ['For detailed Terms ...   \n",
            "4  {'Terms and Conditions': ['For detailed Terms ...   \n",
            "\n",
            "                                      Learn More URL  \\\n",
            "0  https://www.sbicard.com/en/personal/credit-car...   \n",
            "1  https://www.sbicard.com/en/personal/credit-car...   \n",
            "2  https://www.sbicard.com/en/personal/credit-car...   \n",
            "3  https://www.sbicard.com/en/personal/credit-car...   \n",
            "4  https://www.sbicard.com/en/personal/credit-car...   \n",
            "\n",
            "                                       Apply Now URL Apply Now Link  \\\n",
            "0  https://www.sbicard.com/en/eapply/eapplyform.p...            NaN   \n",
            "1  https://www.sbicard.com/en/eapply/eapplyform.p...            NaN   \n",
            "2  https://www.sbicard.com/en/eapply/eapplyform.p...            NaN   \n",
            "3  https://www.sbicard.com/en/eapply/eapplyform.p...            NaN   \n",
            "4  https://www.sbicard.com/en/eapply/eapplyform.p...            NaN   \n",
            "\n",
            "                                       combined_text  \n",
            "0  SBI Card Miles Elite 4999 4999 Get 5,000 Trave...  \n",
            "1  SBI Card PULSE 1,499 1,499 Annual Fee (one-tim...  \n",
            "2  SimplyCLICK SBI Card 499 499 Get Amazon.in gif...  \n",
            "3  CASHBACK SBI Card 999 999 5% cashback on onlin...  \n",
            "4  SBI Card ELITE 4,999 4,999 Welcome e-Gift Vouc...  \n"
          ]
        }
      ]
    },
    {
      "cell_type": "code",
      "source": [
        "from langchain.embeddings import HuggingFaceEmbeddings\n",
        "\n",
        "embedding_model = HuggingFaceEmbeddings(model_name=\"sentence-transformers/all-MiniLM-L6-v2\")\n",
        "\n",
        "df[\"embeddings\"] = df[\"combined_text\"].apply(lambda x: embedding_model.embed_query(x))\n"
      ],
      "metadata": {
        "id": "0j151bvIxe9F"
      },
      "execution_count": 66,
      "outputs": []
    },
    {
      "cell_type": "code",
      "source": [
        "from langchain.vectorstores import FAISS\n",
        "from langchain.schema import Document\n",
        "\n",
        "documents = [Document(page_content=row[\"combined_text\"], metadata={\"index\": i}) for i, row in df.iterrows()]\n",
        "\n",
        "vectorstore = FAISS.from_documents(documents, embedding_model)\n",
        "\n",
        "vectorstore.save_local(\"combined_credit_cards\")\n"
      ],
      "metadata": {
        "id": "r2RNmTKdxe_j"
      },
      "execution_count": 67,
      "outputs": []
    },
    {
      "cell_type": "code",
      "source": [
        "import os\n",
        "from google.colab import userdata\n",
        "\n",
        "os.environ[\"HUGGINGFACEHUB_API_TOKEN\"] = userdata.get(\"HUGGINGFACEHUB_API_TOKEN\")\n",
        "\n",
        "from huggingface_hub import InferenceClient\n",
        "\n",
        "client = InferenceClient(model=\"mistralai/Mistral-7B-Instruct-v0.3\", token=os.getenv(\"HUGGINGFACEHUB_API_TOKEN\"))\n"
      ],
      "metadata": {
        "id": "mDffhEB0xfCT"
      },
      "execution_count": 68,
      "outputs": []
    },
    {
      "cell_type": "code",
      "source": [
        "query = input(\"Enter your query: \")\n",
        "\n",
        "retrieved_docs = vectorstore.similarity_search(query, k=3)\n",
        "\n",
        "context = \"\\n\\n\".join([doc.page_content for doc in retrieved_docs])\n",
        "\n",
        "response = client.text_generation(f\"Context:\\n{context}\\n\\nQuestion: {query}\")\n",
        "\n",
        "print(\"\\n🔹 AI Response:\\n\", response)"
      ],
      "metadata": {
        "colab": {
          "base_uri": "https://localhost:8080/"
        },
        "id": "5arOOinSxfEz",
        "outputId": "de54afb6-7770-47b8-b28c-f1702117f4d9"
      },
      "execution_count": 70,
      "outputs": [
        {
          "output_type": "stream",
          "name": "stdout",
          "text": [
            "Enter your query: which card is better sbi or axis for shopping?\n",
            "\n",
            "🔹 AI Response:\n",
            " \n",
            "Answer: The comparison between SBI and Axis Bank credit cards for shopping depends on the specific card benefits and rewards offered. For instance, the South Indian Bank SBI Card PRIME offers 10 Reward Points per Rs. 100 spent on Dining, Groceries, Departmental stores and Movies, while the Axis Bank Buzz Credit Card offers 5 Reward Points per Rs. 100 spent on all purchases. Therefore, the South Indian Bank SBI Card PRIME might be a better choice for shopping at these categories. However, it's essential to consider other factors such as annual fees, welcome offers, and additional benefits before making a decision.\n"
          ]
        }
      ]
    },
    {
      "cell_type": "code",
      "source": [],
      "metadata": {
        "id": "TIHD7GtV2EHd"
      },
      "execution_count": null,
      "outputs": []
    }
  ]
}